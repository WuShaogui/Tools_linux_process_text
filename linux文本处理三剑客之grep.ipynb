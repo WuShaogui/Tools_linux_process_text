{
 "cells": [
  {
   "cell_type": "markdown",
   "metadata": {
    "toc": true
   },
   "source": [
    "<h1>Table of Contents<span class=\"tocSkip\"></span></h1>\n",
    "<div class=\"toc\"><ul class=\"toc-item\"><li><span><a href=\"#重定向\" data-toc-modified-id=\"重定向-1\"><span class=\"toc-item-num\">1&nbsp;&nbsp;</span>重定向</a></span></li><li><span><a href=\"#实例\" data-toc-modified-id=\"实例-2\"><span class=\"toc-item-num\">2&nbsp;&nbsp;</span>实例</a></span></li></ul></div>"
   ]
  },
  {
   "cell_type": "markdown",
   "metadata": {},
   "source": [
    "# linux文本处理三剑客之grep"
   ]
  },
  {
   "cell_type": "markdown",
   "metadata": {},
   "source": [
    "- grep 指令用于查找内容包含指定的范本样式的文件\n",
    "- 如果发现某文件的内容符合所指定的范本样式，预设 grep 指令会把含有范本样式的那一列显示出来\n",
    "- 若不指定任何文件名称，或是所给予的文件名为 -，则 grep 指令会从标准输入设备读取数据。"
   ]
  },
  {
   "cell_type": "markdown",
   "metadata": {},
   "source": [
    "**语法**\n",
    "```bash\n",
    "grep [-abcEFGhHilLnqrsvVwxy][-A<显示列数>][-B<显示列数>][-C<显示列数>][-d<进行动作>][-e<范本样式>][-f<范本文件>][--help][范本样式][文件或目录...]\n",
    "```\n",
    "\n",
    "参数|含义\n",
    ":- | :-\n",
    "-a 或 --text  | 不要忽略二进制的数据。\n",
    "-A<显示行数> 或 --after-context=<显示行数>  | 除了显示符合范本样式的那一列之外，并显示该行之后的内容。\n",
    "-b 或 --byte-offset  | 在显示符合样式的那一行之前，标示出该行第一个字符的编号。\n",
    "-B<显示行数> 或 --before-context=<显示行数>  | 除了显示符合样式的那一行之外，并显示该行之前的内容。\n",
    "-c 或 --count  | 计算符合样式的列数。\n",
    "-C<显示行数> 或 --context=<显示行数>或-<显示行数>  | 除了显示符合样式的那一行之外，并显示该行之前后的内容。\n",
    "-d <动作> 或 --directories=<动作>  | 当指定要查找的是目录而非文件时，必须使用这项参数，否则grep指令将回报信息并停止动作。\n",
    "-e<范本样式> 或 --regexp=<范本样式>  | 指定字符串做为查找文件内容的样式。\n",
    "-E 或 --extended-regexp  | 将样式为延伸的正则表达式来使用。\n",
    "-f<规则文件> 或 --file=<规则文件>  | 指定规则文件，其内容含有一个或多个规则样式，让grep查找符合规则条件的文件内容，格式为每行一个规则样式。\n",
    "-F 或 --fixed-regexp  | 将样式视为固定字符串的列表。\n",
    "-G 或 --basic-regexp  | 将样式视为普通的表示法来使用。\n",
    "-h 或 --no-filename  | 在显示符合样式的那一行之前，不标示该行所属的文件名称。\n",
    "-H 或 --with-filename  | 在显示符合样式的那一行之前，表示该行所属的文件名称。\n",
    "-i 或 --ignore-case  | 忽略字符大小写的差别。\n",
    "-l 或 --file-with-matches  | 列出文件内容符合指定的样式的文件名称。\n",
    "-L 或 --files-without-match  | 列出文件内容不符合指定的样式的文件名称。\n",
    "-n 或 --line-number  | 在显示符合样式的那一行之前，标示出该行的列数编号。\n",
    "-o 或 --only-matching  | 只显示匹配PATTERN 部分。\n",
    "-q 或 --quiet或--silent  | 不显示任何信息。\n",
    "-r 或 --recursive  | 此参数的效果和指定\"-d recurse\"参数相同。\n",
    "-s 或 --no-messages  | 不显示错误信息。\n",
    "-v 或 --revert-match  | 显示不包含匹配文本的所有行。\n",
    "-V 或 --version  | 显示版本信息。\n",
    "-w 或 --word-regexp  | 只显示全字符合的列。\n",
    "-x --line-regexp  | 只显示全列符合的列。\n",
    "-y  | 此参数的效果和指定\"-i\"参数相同。 "
   ]
  },
  {
   "cell_type": "markdown",
   "metadata": {},
   "source": [
    "## 重定向"
   ]
  },
  {
   "cell_type": "markdown",
   "metadata": {},
   "source": [
    "序号 | 命令符号格式 |\t作用\n",
    "-|:-|:-\n",
    "1 | 命令 > 文件 | 将命令执行的标准输出结果重定向输出到指定的文件中，如果该文件已包含数据，会清空原有数据，再写入新数据\n",
    "2 | 命令 >> 文件 | 将命令执行的标准输出结果重定向输出到指定的文件中，如果该文件已包含数据，新数据将写入到原有内容的后面\n",
    "3 | 命令 2> 文件 |\t将命令执行的错误输出结果重定向到指定的文件中，如果该文件中已包含数据，会清空原有数据，再写入新数据\n",
    "4 | 命令 2>> 文件 |\t将命令执行的错误输出结果重定向到指定的文件中，如果该文件中已包含数据，新数据将写入到原有内容的后面\n",
    "5 | 命令 >> 文件 2>&1 或者 命令 &>> 文件 | 将标准输出或者错误输出写入到指定文件，如果该文件中已包含数据，新数据将写入到原有内容的后面。注意，第一种格式中，最后的 2>&1 是一体的，可以认为是固定写法\n",
    "6 | 命令 < 文件 |\t将指定文件作为命令的输入设备\n",
    "7 | 命令 << 分界符 |\t表示从标准输入设备（键盘）中读入，直到遇到分界符才停止（读入的数据不包括分界符），这里的分界符其实就是自定义的字符串\n",
    "8 | 命令 < 文件 1 > 文件 2\t将文件 1 | 作为命令的输入设备，该命令的执行结果输出到文件 2 中。\n",
    "\n",
    "注意：默认情况下，cat 命令会接受标准输入设备（键盘）的输入，并显示到控制台，但如果用文件代替键盘作为输入设备"
   ]
  },
  {
   "cell_type": "markdown",
   "metadata": {},
   "source": [
    "## 实例"
   ]
  },
  {
   "cell_type": "code",
   "execution_count": 3,
   "metadata": {},
   "outputs": [
    {
     "name": "stdout",
     "output_type": "stream",
     "text": [
      "./grep.text2:Linux is a free unix-type opterating system. \n",
      "---------------------------------------------\n",
      "./grep.text1:LINUX IS A FREE UNIX-TYPE OPTERATING SYSTEM.\n",
      "./grep.text1:THIS IS A LINUX TESTFILE! \n",
      "./grep.text2:Linux is a free unix-type opterating system. \n"
     ]
    }
   ],
   "source": [
    "!grep -r is ./grep.text*\n",
    "print('---------------------------------------------')\n",
    "!grep -r -i is ./grep.text*"
   ]
  },
  {
   "cell_type": "code",
   "execution_count": 4,
   "metadata": {},
   "outputs": [
    {
     "name": "stdout",
     "output_type": "stream",
     "text": [
      "./grep.text1:HELLO LINUX!\r\n",
      "./grep.text1:LINUX IS A FREE UNIX-TYPE OPTERATING SYSTEM.\r\n",
      "./grep.text1:THIS IS A LINUX TESTFILE! \r\n",
      "./grep.text2:HELLO LINUX!\r\n"
     ]
    }
   ],
   "source": [
    "!grep -v is ./grep.text*"
   ]
  }
 ],
 "metadata": {
  "kernelspec": {
   "display_name": "Python 3",
   "language": "python",
   "name": "python3"
  },
  "language_info": {
   "codemirror_mode": {
    "name": "ipython",
    "version": 3
   },
   "file_extension": ".py",
   "mimetype": "text/x-python",
   "name": "python",
   "nbconvert_exporter": "python",
   "pygments_lexer": "ipython3",
   "version": "3.6.9"
  },
  "toc": {
   "base_numbering": 1,
   "nav_menu": {},
   "number_sections": true,
   "sideBar": true,
   "skip_h1_title": true,
   "title_cell": "Table of Contents",
   "title_sidebar": "Contents",
   "toc_cell": true,
   "toc_position": {},
   "toc_section_display": true,
   "toc_window_display": true
  }
 },
 "nbformat": 4,
 "nbformat_minor": 4
}
