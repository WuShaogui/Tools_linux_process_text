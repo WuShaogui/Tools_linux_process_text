{
 "cells": [
  {
   "cell_type": "markdown",
   "metadata": {
    "toc": true
   },
   "source": [
    "<h1>Table of Contents<span class=\"tocSkip\"></span></h1>\n",
    "<div class=\"toc\"><ul class=\"toc-item\"><li><span><a href=\"#新增\" data-toc-modified-id=\"新增-1\"><span class=\"toc-item-num\">1&nbsp;&nbsp;</span>新增</a></span></li><li><span><a href=\"#删除\" data-toc-modified-id=\"删除-2\"><span class=\"toc-item-num\">2&nbsp;&nbsp;</span>删除</a></span></li><li><span><a href=\"#替换\" data-toc-modified-id=\"替换-3\"><span class=\"toc-item-num\">3&nbsp;&nbsp;</span>替换</a></span></li><li><span><a href=\"#搜索\" data-toc-modified-id=\"搜索-4\"><span class=\"toc-item-num\">4&nbsp;&nbsp;</span>搜索</a></span></li><li><span><a href=\"#多组命令\" data-toc-modified-id=\"多组命令-5\"><span class=\"toc-item-num\">5&nbsp;&nbsp;</span>多组命令</a></span></li><li><span><a href=\"#多点编辑\" data-toc-modified-id=\"多点编辑-6\"><span class=\"toc-item-num\">6&nbsp;&nbsp;</span>多点编辑</a></span></li><li><span><a href=\"#直接修改原文件\" data-toc-modified-id=\"直接修改原文件-7\"><span class=\"toc-item-num\">7&nbsp;&nbsp;</span>直接修改原文件</a></span></li><li><span><a href=\"#实例\" data-toc-modified-id=\"实例-8\"><span class=\"toc-item-num\">8&nbsp;&nbsp;</span>实例</a></span></li></ul></div>"
   ]
  },
  {
   "cell_type": "code",
   "execution_count": 95,
   "metadata": {},
   "outputs": [
    {
     "name": "stdout",
     "output_type": "stream",
     "text": [
      "No LSB modules are available.\r\n",
      "Distributor ID:\tLinuxMint\r\n",
      "Description:\tLinux Mint 19.3 Tricia\r\n",
      "Release:\t19.3\r\n",
      "Codename:\ttricia\r\n"
     ]
    }
   ],
   "source": [
    "#系统环境\n",
    "!lsb_release -a"
   ]
  },
  {
   "cell_type": "code",
   "execution_count": 94,
   "metadata": {},
   "outputs": [
    {
     "name": "stdout",
     "output_type": "stream",
     "text": [
      "1-start resigning\r\n",
      "2-update resume\r\n",
      "3-find a job you love \r\n",
      "4\r\n",
      "5-the market is not good \r\n"
     ]
    }
   ],
   "source": [
    "#样例文件\n",
    "!cat sed.text"
   ]
  },
  {
   "cell_type": "markdown",
   "metadata": {},
   "source": [
    "# linux文本处理三剑客之sed"
   ]
  },
  {
   "cell_type": "markdown",
   "metadata": {},
   "source": [
    "\n",
    "- sed 是一种在线编辑器，它一次处理一行内容。\n",
    "- 处理时，把当前处理的行存储在临时缓冲区中，称为“模式空间”（pattern space）。\n",
    "- 接着用sed命令处理缓冲区中的内容，处理完成后，把缓冲区的内容送往屏幕。\n",
    "- 接着处理下一行，这样不断重复，直到文件末尾。\n",
    "- 文件内容并没有改变，除非你使用重定向存储输出。\n",
    "- 非交互式，基于模式匹配过滤及修改文本,Vim是交互式的"
   ]
  },
  {
   "cell_type": "markdown",
   "metadata": {},
   "source": [
    "# **sed的命令行格式：**\n",
    "\n",
    "```bash\n",
    "sed [-nefilEsuzhv][-e<script>][-f<script文件>][文件1,文件2,...]\n",
    "```\n",
    "\n",
    "参数说明：\n",
    "\n",
    "参数|含义\n",
    ":- | :-\n",
    "-n | 仅显示script处理后的结果\n",
    "-e script |  以选项中指定的script来处理输入的文本文件\n",
    "-f script-file |  以选项中指定的script文件来处理输入的文本文件\n",
    "-i | 替换源文件\n",
    "-l | 该选项指令l指令可以输出的行长度\n",
    "--posix| 禁用GNU sed扩展功能\n",
    "-E,-r| 启用扩展的正则表达式\n",
    "-s| 默认情况下，sed将把输入的多个文件名作为一个长的连续的输入流，-s允许把它们当作单独的文件\n",
    "-u| 最低限度的缓存输入和输出\n",
    "-z| 使用null划分输出行\n",
    "--help | 显示帮助\n",
    "--version | 显示版本信息\n",
    "\n",
    "\n",
    "\n",
    "注意：\n",
    "- sed处理的文件既可以由标准输入重定向得到,也可以当命令行参数传入\n",
    "- 命令行参数可以一次传入多个文件,sed会依次处理\n",
    "- sed的编辑命令可以直接当命令行参数传入,也可以写成一个脚本文件然后用-f参数指定"
   ]
  },
  {
   "cell_type": "markdown",
   "metadata": {},
   "source": [
    "**编辑命令行格式：**\n",
    "```bash\n",
    "/pattern/action\n",
    "```\n",
    "pattern是正则表达式,action是编辑操作。sed程序一行一行读出待处理文件,如果某\n",
    "一行 与pattern匹配,则执行相应的action,如果一条命令没有pattern而只有action,这个action将作用于待处理文件的每一行。\n",
    "\n",
    "**sed命令:**\n",
    "\n",
    "命令|含义\n",
    ":-: | :-\n",
    "a\\ | 在当前行后添加一行或多行。多行时除最后一行外，每行末尾需用“\\”续行\n",
    "c\\ | 用此符号后的新文本替换当前行中的文本。多行时除最后一行外，每行尾需用”\\\"续行\n",
    "d\\ | 删除\n",
    "i\\ | 在当前行之前插入文本。多行时除最后一行外，每行末尾需用”\\\"续行d删除     行\n",
    "h\\ | 把模式空间里的内容复制到暂存缓冲区\n",
    "H\\ | 把模式空间里的内容追加到暂存缓冲区\n",
    "g\\ | 把暂存缓冲区里的内容复制到模式空间，覆盖原有的内容\n",
    "G\\ | 把暂存缓冲区的内容追加到模式空间里，追加在原有内容的后面\n",
    "l\\ | 打印(显示非打印字符)\n",
    "L\\ | 打印(不显示非打印字符)\n",
    "p\\ | 打印行\n",
    "n\\ | 读入下一输入行，并从下一条命令而不是第一条命令开始对其的处理\n",
    "q\\ | 结束或退出sed\n",
    "r\\ | 从文件中读取输入行\n",
    "!\\ | 对所选行以外的所有行应用命令\n",
    "s\\ | 用一个字符串替换另一个\n",
    "g\\ | 在行内进行全局替换\n",
    "w\\ | 将所选的行写入文件\n",
    "x\\ | 交换暂存缓冲区与模式空间的内容\n",
    "y\\ | 将字符替换为另一字符（不能对正则表达式使用y命令）"
   ]
  },
  {
   "cell_type": "markdown",
   "metadata": {},
   "source": [
    "**命令样例**\n",
    "\n",
    "格式|含义\n",
    ":-: | :-\n",
    "10 | 匹配第十行\n",
    "10,20 | 匹配第十行到第二十行\n",
    "10,+20 | 匹配第十行到第三十行(10+20)\n",
    "1~2 | 匹配第一行开始的奇数行\n",
    "10,\\$ |匹配第十行到最后一行\n",
    "/oldboy/ | 匹配有oldboy的行\n",
    "/oldboy/,/Alex/ | 匹配有oldboy的行到有Alex的行\n",
    "/oldboy/,\\$ | 匹配有oldboy的行到最后一行\n",
    "/oldboy/,10 | 匹配有oldboy的行到第十行，如果前十行没有匹配到有oldboy的行会对后面匹配到有oldboy的行进行操作\n",
    "1,/Alex/ | 匹配第一行到有Alex的行\n",
    "/oldboy/,+2 | 匹配有oldboy的行及之后的两行"
   ]
  },
  {
   "cell_type": "markdown",
   "metadata": {},
   "source": [
    "### 新增"
   ]
  },
  {
   "cell_type": "code",
   "execution_count": 82,
   "metadata": {},
   "outputs": [
    {
     "name": "stdout",
     "output_type": "stream",
     "text": [
      "1-start resigning\n",
      "2-update resume\n",
      "3-find a job you love \n",
      "4\n",
      "noproblem\n",
      "5-the market is not good \n",
      "----------------------------------------\n",
      "1-start resigning\n",
      "2-update resume\n",
      "3-find a job you love \n",
      "noproblem\n",
      "4\n",
      "noproblem\n",
      "5-the market is not good \n",
      "noproblem\n",
      "----------------------------------------\n",
      "1-start resigning\n",
      "noproblem\n",
      "2-update resume\n",
      "noproblem\n",
      "3-find a job you love \n",
      "noproblem\n",
      "4\n",
      "5-the market is not good \n",
      "----------------------------------------\n",
      "1-start resigning\n",
      "2-update resume\n",
      "no problem\n",
      "3-find a job you love \n",
      "no problem\n",
      "4\n",
      "no problem\n",
      "5-the market is not good \n",
      "no problem\n"
     ]
    }
   ],
   "source": [
    "!sed -e 4a\\noproblem sed.text\n",
    "print('----------------------------------------')\n",
    "!sed -e 3,5a\\noproblem sed.text\n",
    "print('----------------------------------------')\n",
    "!sed -e 1,+2a\\noproblem sed.text\n",
    "print('----------------------------------------')\n",
    "!sed  '2~1a\\no problem' sed.text"
   ]
  },
  {
   "cell_type": "markdown",
   "metadata": {},
   "source": [
    "### 删除"
   ]
  },
  {
   "cell_type": "code",
   "execution_count": 96,
   "metadata": {},
   "outputs": [
    {
     "name": "stdout",
     "output_type": "stream",
     "text": [
      "1-start resigning\n",
      "2-update resume\n",
      "4\n",
      "5-the market is not good \n",
      "----------------------------------------\n",
      "4\n",
      "5-the market is not good \n",
      "----------------------------------------\n",
      "2-update resume\n",
      "3-find a job you love \n",
      "5-the market is not good \n",
      "----------------------------------------\n",
      "1-start resigning\n",
      "----------------------------------------\n",
      "1-start resigning\n",
      "2-update resume\n",
      "3-find a job you love \n",
      "4\n",
      "----------------------------------------\n",
      "5-the market is not good \n"
     ]
    }
   ],
   "source": [
    "!sed -e 3d sed.text\n",
    "print('----------------------------------------')\n",
    "!sed '1,3d' sed.text\n",
    "print('----------------------------------------')\n",
    "!sed '1~3d' sed.text\n",
    "print('----------------------------------------')\n",
    "!sed '2,$d' sed.text\n",
    "print('----------------------------------------')\n",
    "!sed '/is/d' sed.text\n",
    "print('----------------------------------------')\n",
    "!sed '/is/!d' sed.text"
   ]
  },
  {
   "cell_type": "markdown",
   "metadata": {},
   "source": [
    "### 替换"
   ]
  },
  {
   "cell_type": "code",
   "execution_count": 84,
   "metadata": {},
   "outputs": [
    {
     "name": "stdout",
     "output_type": "stream",
     "text": [
      "happy!\n",
      "3-find a job you love \n",
      "4\n",
      "5-the market is not good \n",
      "----------------------------------------\n",
      "1-start resigning\n",
      "2-update resume\n",
      "3-find a job you love \n",
      "4\n",
      "5-the market is not fine \n"
     ]
    }
   ],
   "source": [
    "#行替换\n",
    "!sed '1,2c happy!' sed.text\n",
    "print('----------------------------------------')\n",
    "#字符替换\n",
    "!sed 's/good/fine/g' sed.text"
   ]
  },
  {
   "cell_type": "markdown",
   "metadata": {},
   "source": [
    "### 搜索"
   ]
  },
  {
   "cell_type": "code",
   "execution_count": 85,
   "metadata": {},
   "outputs": [
    {
     "name": "stdout",
     "output_type": "stream",
     "text": [
      "1-start resigning\n",
      "1-start resigning\n",
      "2-update resume\n",
      "3-find a job you love \n",
      "3-find a job you love \n",
      "4\n",
      "5-the market is not good \n",
      "5-the market is not good \n",
      "----------------------------------------\n",
      "1-start resigning\n",
      "3-find a job you love \n",
      "5-the market is not good \n",
      "----------------------------------------\n",
      "5-the market is not good \n",
      "----------------------------------------\n",
      "2-update resume\n",
      "3-find a job you love \n"
     ]
    }
   ],
   "source": [
    "#显示原文件及匹配行\n",
    "!sed '/i/p' sed.text\n",
    "print('----------------------------------------')\n",
    "#仅显示匹配行\n",
    "!sed -n '/i/p' sed.text\n",
    "print('----------------------------------------')\n",
    "!sed -n '/is/p' sed.text\n",
    "print('----------------------------------------')\n",
    "!sed -n '2,3p' sed.text"
   ]
  },
  {
   "cell_type": "markdown",
   "metadata": {},
   "source": [
    "### 多组命令"
   ]
  },
  {
   "cell_type": "code",
   "execution_count": 86,
   "metadata": {},
   "outputs": [
    {
     "name": "stdout",
     "output_type": "stream",
     "text": [
      "5-the market is not fine \r\n"
     ]
    }
   ],
   "source": [
    "!sed -n '/is/{s/good/fine/;p;q}' sed.text"
   ]
  },
  {
   "cell_type": "markdown",
   "metadata": {},
   "source": [
    "### 多点编辑"
   ]
  },
  {
   "cell_type": "code",
   "execution_count": 87,
   "metadata": {},
   "outputs": [
    {
     "name": "stdout",
     "output_type": "stream",
     "text": [
      "1-start resigning\n",
      "3-find a job you love \n",
      "4\n",
      "5-the market is not good \n",
      "----------------------------------------\n",
      "1-start resigning\n",
      "3-find a job you love \n",
      "4\n",
      "5-the market is not good \n"
     ]
    }
   ],
   "source": [
    "!sed -e '2d' sed.text\n",
    "print('----------------------------------------')\n",
    "!sed -e '2d' -e 's/like/love/g' sed.text"
   ]
  },
  {
   "cell_type": "markdown",
   "metadata": {},
   "source": [
    "### 直接修改原文件"
   ]
  },
  {
   "cell_type": "code",
   "execution_count": 88,
   "metadata": {},
   "outputs": [
    {
     "name": "stdout",
     "output_type": "stream",
     "text": [
      "1-start resigning\r\n",
      "2-update resume\r\n",
      "3-find a job you love \r\n",
      "4\r\n",
      "5-the market is not good \r\n"
     ]
    }
   ],
   "source": [
    "!sed -i -e 's/like/love/g' sed.text\n",
    "!cat sed.text"
   ]
  },
  {
   "cell_type": "markdown",
   "metadata": {},
   "source": [
    "### 实例"
   ]
  },
  {
   "cell_type": "code",
   "execution_count": 89,
   "metadata": {},
   "outputs": [
    {
     "name": "stdout",
     "output_type": "stream",
     "text": [
      "1-startresigning\r\n",
      "2-updateresume\r\n",
      "3-findajobyoulove\r\n",
      "4\r\n",
      "5-themarketisnotgood\r\n"
     ]
    }
   ],
   "source": [
    "#删空格\n",
    "!sed 's/[ ]*//g' sed.text"
   ]
  },
  {
   "cell_type": "code",
   "execution_count": 90,
   "metadata": {},
   "outputs": [
    {
     "name": "stdout",
     "output_type": "stream",
     "text": [
      "1-start resigning\r\n",
      "2-update resume\r\n",
      "3-find a job you love \r\n",
      "4\r\n",
      "5-the market is not good \r\n"
     ]
    }
   ],
   "source": [
    "#删除无内容空行\n",
    "!sed '/^$/d' sed.text"
   ]
  },
  {
   "cell_type": "code",
   "execution_count": 91,
   "metadata": {},
   "outputs": [
    {
     "name": "stdout",
     "output_type": "stream",
     "text": [
      "1-start resigning\r\n",
      "2-update resume\r\n",
      "3-find a job you love \r\n",
      "4\r\n"
     ]
    }
   ],
   "source": [
    "#删除最后一行：\n",
    "!sed '$d' sed.text"
   ]
  },
  {
   "cell_type": "code",
   "execution_count": 92,
   "metadata": {},
   "outputs": [
    {
     "name": "stdout",
     "output_type": "stream",
     "text": [
      "1-start resignin\r\n",
      "2-update resum\r\n",
      "3-find a job you love\r\n",
      "\r\n",
      "5-the market is not good\r\n"
     ]
    }
   ],
   "source": [
    "#删除尾行的空格\n",
    "!sed 's/.$//' sed.text"
   ]
  }
 ],
 "metadata": {
  "kernelspec": {
   "display_name": "Python 3",
   "language": "python",
   "name": "python3"
  },
  "language_info": {
   "codemirror_mode": {
    "name": "ipython",
    "version": 3
   },
   "file_extension": ".py",
   "mimetype": "text/x-python",
   "name": "python",
   "nbconvert_exporter": "python",
   "pygments_lexer": "ipython3",
   "version": "3.6.9"
  },
  "toc": {
   "base_numbering": 1,
   "nav_menu": {},
   "number_sections": true,
   "sideBar": true,
   "skip_h1_title": true,
   "title_cell": "Table of Contents",
   "title_sidebar": "Contents",
   "toc_cell": true,
   "toc_position": {
    "height": "calc(100% - 180px)",
    "left": "10px",
    "top": "150px",
    "width": "185px"
   },
   "toc_section_display": true,
   "toc_window_display": true
  }
 },
 "nbformat": 4,
 "nbformat_minor": 4
}
